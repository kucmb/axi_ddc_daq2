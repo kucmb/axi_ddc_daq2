{
 "cells": [
  {
   "cell_type": "code",
   "execution_count": null,
   "metadata": {},
   "outputs": [],
   "source": [
    "%matplotlib inline\n",
    "import matplotlib.pyplot as plt\n",
    "import numpy as np\n",
    "from pathlib import Path"
   ]
  },
  {
   "cell_type": "code",
   "execution_count": null,
   "metadata": {},
   "outputs": [],
   "source": [
    "LENGTH = 65536\n",
    "SINCOS_WIDTH = 14\n",
    "DDS_WIDTH = 14\n",
    "PHASE_WIDTH = 20\n",
    "AMP_MAX = 2**SINCOS_WIDTH/2 - 1\n",
    "DDS_MAX = 2**DDS_WIDTH/2 - 1\n",
    "x = np.arange(4, 4*LENGTH+4, dtype=np.int64)\n",
    "pinc = -10101/LENGTH\n",
    "poff = 0\n",
    "phase_cal = pinc*x + poff\n",
    "wave_cal = np.round(AMP_MAX*np.cos(2*np.pi*phase_cal)) + 1j*np.round(AMP_MAX*np.sin(2*np.pi*phase_cal))\n",
    "dds_cal = np.round(DDS_MAX*np.cos(2*np.pi*phase_cal)) + 1j*np.round(DDS_MAX*np.sin(2*np.pi*phase_cal))"
   ]
  },
  {
   "cell_type": "code",
   "execution_count": null,
   "metadata": {},
   "outputs": [],
   "source": [
    "plt.plot(x, wave_cal.real)\n",
    "plt.plot(x, wave_cal.imag)"
   ]
  },
  {
   "cell_type": "code",
   "execution_count": null,
   "metadata": {},
   "outputs": [],
   "source": [
    "ddc_cal = (wave_cal.real*dds_cal.real + wave_cal.imag*dds_cal.imag) + 1j*(wave_cal.imag*dds_cal.real - wave_cal.real*dds_cal.imag)"
   ]
  },
  {
   "cell_type": "code",
   "execution_count": null,
   "metadata": {},
   "outputs": [],
   "source": [
    "def pinc2b(pinc_in):\n",
    "    p_int = int(pinc_in*(2**PHASE_WIDTH))\n",
    "    p_bytes = p_int.to_bytes(4, 'big', signed=True)\n",
    "    p_uint = int.from_bytes(p_bytes, 'big', signed=False)\n",
    "    return f\"{p_uint:020b}\"[-20:]"
   ]
  },
  {
   "cell_type": "markdown",
   "metadata": {},
   "source": [
    "## Write pinc and poff to `p_setting.bin`"
   ]
  },
  {
   "cell_type": "code",
   "execution_count": null,
   "metadata": {},
   "outputs": [],
   "source": [
    "SIM_DIR = Path('.', 'ddc_quad', 'ddc_quad.sim', 'sim_1', 'behav', 'xsim')\n",
    "P_SET_PATH = SIM_DIR.joinpath('p_setting.bin')\n",
    "DIN_PATH_0 = SIM_DIR.joinpath('data_in_0.bin')\n",
    "DIN_PATH_1 = SIM_DIR.joinpath('data_in_1.bin')\n",
    "DIN_PATH_2 = SIM_DIR.joinpath('data_in_2.bin')\n",
    "DIN_PATH_3 = SIM_DIR.joinpath('data_in_3.bin')\n",
    "if not SIM_DIR.exists():\n",
    "    SIM_DIR.mkdir(parents=True)"
   ]
  },
  {
   "cell_type": "code",
   "execution_count": null,
   "metadata": {},
   "outputs": [],
   "source": [
    "with open(P_SET_PATH, 'w') as f:\n",
    "    f.write(pinc2b(pinc) + '\\n')\n",
    "    f.write(f'{poff:020b}\\n')"
   ]
  },
  {
   "cell_type": "code",
   "execution_count": null,
   "metadata": {},
   "outputs": [],
   "source": [
    "def f2b14(value):\n",
    "    return f\"{int.from_bytes(int(value).to_bytes(2, 'big', signed=True), 'big', signed=False):014b}\"[-14:]\n",
    "\n",
    "with open(DIN_PATH_0, 'w') as f:\n",
    "    for wv in wave_cal[::4]:\n",
    "        f.write('00' + f2b14(wv.imag)+ '00' + f2b14(wv.real) + '\\n')\n",
    "with open(DIN_PATH_1, 'w') as f:\n",
    "    for wv in wave_cal[1::4]:\n",
    "        f.write('00' + f2b14(wv.imag)+ '00' + f2b14(wv.real) + '\\n')\n",
    "with open(DIN_PATH_2, 'w') as f:\n",
    "    for wv in wave_cal[2::4]:\n",
    "        f.write('00' + f2b14(wv.imag)+ '00' + f2b14(wv.real) + '\\n')\n",
    "with open(DIN_PATH_3, 'w') as f:\n",
    "    for wv in wave_cal[3::4]:\n",
    "        f.write('00' + f2b14(wv.imag)+ '00' + f2b14(wv.real) + '\\n')"
   ]
  },
  {
   "cell_type": "markdown",
   "metadata": {},
   "source": [
    "- stop here and run `run_sim.tcl`"
   ]
  },
  {
   "cell_type": "markdown",
   "metadata": {},
   "source": [
    "## Analysis"
   ]
  },
  {
   "cell_type": "code",
   "execution_count": null,
   "metadata": {},
   "outputs": [],
   "source": [
    "DOUT_PATH = SIM_DIR.joinpath('data_out.bin')\n",
    "\n",
    "if not DOUT_PATH.exists():\n",
    "    raise Exception('Simulation has not yet been run')"
   ]
  },
  {
   "cell_type": "code",
   "execution_count": null,
   "metadata": {},
   "outputs": [],
   "source": [
    "def data_open(path):\n",
    "    with open(path) as fd_dout:\n",
    "        fd_data = fd_dout.readlines()\n",
    "        data_sim_u = [int(line, 2) for line in fd_data]\n",
    "        data_sim_b = [int.to_bytes(w, 8, 'big', signed=False) for w in data_sim_u]\n",
    "        data_sim_q = np.array([int.from_bytes(w[0:4], 'big', signed=True) for w in data_sim_b])\n",
    "        data_sim_i = np.array([int.from_bytes(w[4:8], 'big', signed=True) for w in data_sim_b])\n",
    "        ddc_sim = data_sim_i + 1j*data_sim_q\n",
    "    return ddc_sim\n",
    "\n",
    "ddc_sim = data_open(DOUT_PATH)"
   ]
  },
  {
   "cell_type": "code",
   "execution_count": null,
   "metadata": {},
   "outputs": [],
   "source": [
    "SPARSE = 101\n",
    "plt.plot(ddc_sim.real[::SPARSE], ddc_sim.imag[::SPARSE], marker='.', ls='')\n",
    "amax = np.abs(ddc_sim).max()\n",
    "#plt.xlim([-amax, amax])\n",
    "#plt.ylim([-amax, amax])"
   ]
  },
  {
   "cell_type": "code",
   "execution_count": null,
   "metadata": {},
   "outputs": [],
   "source": [
    "from scipy.signal import welch\n",
    "ddc_sim_reg = ddc_sim/np.abs(ddc_sim.mean())\n",
    "f, Pxx_sim = welch(ddc_sim_reg.imag, fs=250e6, nperseg=1024)\n",
    "\n",
    "plt.semilogx(f, 10*np.log10(Pxx_sim))\n",
    "plt.title('PSD quad')\n",
    "plt.xlabel('Frequency [Hz]')\n",
    "plt.ylabel('PSD [dBc/Hz]')\n",
    "plt.tight_layout()\n",
    "plt.grid()\n",
    "plt.savefig('psd_ddc_quad.pdf')\n",
    "plt.savefig('psd_ddc_auqd.png', dpi=150)"
   ]
  },
  {
   "cell_type": "code",
   "execution_count": null,
   "metadata": {},
   "outputs": [],
   "source": [
    "ddc_sim.real[1]"
   ]
  },
  {
   "cell_type": "code",
   "execution_count": null,
   "metadata": {},
   "outputs": [],
   "source": [
    "plt.plot(ddc_sim.reshape(-1,2**11).sum(axis=1).imag)"
   ]
  },
  {
   "cell_type": "code",
   "execution_count": null,
   "metadata": {},
   "outputs": [],
   "source": []
  }
 ],
 "metadata": {
  "kernelspec": {
   "display_name": "Python 3",
   "language": "python",
   "name": "python3"
  },
  "language_info": {
   "codemirror_mode": {
    "name": "ipython",
    "version": 3
   },
   "file_extension": ".py",
   "mimetype": "text/x-python",
   "name": "python",
   "nbconvert_exporter": "python",
   "pygments_lexer": "ipython3",
   "version": "3.7.1"
  }
 },
 "nbformat": 4,
 "nbformat_minor": 2
}
